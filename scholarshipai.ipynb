{
  "nbformat": 4,
  "nbformat_minor": 0,
  "metadata": {
    "colab": {
      "provenance": [],
      "authorship_tag": "ABX9TyO/sPSrxzMAozoDDmFwLDvb",
      "include_colab_link": true
    },
    "kernelspec": {
      "name": "python3",
      "display_name": "Python 3"
    },
    "language_info": {
      "name": "python"
    }
  },
  "cells": [
    {
      "cell_type": "markdown",
      "metadata": {
        "id": "view-in-github",
        "colab_type": "text"
      },
      "source": [
        "<a href=\"https://colab.research.google.com/github/vaughnpaul/scholarshipai/blob/main/scholarshipai.ipynb\" target=\"_parent\"><img src=\"https://colab.research.google.com/assets/colab-badge.svg\" alt=\"Open In Colab\"/></a>"
      ]
    },
    {
      "cell_type": "code",
      "execution_count": 1,
      "metadata": {
        "id": "iNGuyOhxbp3h",
        "colab": {
          "base_uri": "https://localhost:8080/",
          "height": 734
        },
        "outputId": "8c312bd6-beb3-4ca4-bae1-e94b32fa370a"
      },
      "outputs": [
        {
          "output_type": "stream",
          "name": "stdout",
          "text": [
            "Collecting pyairtable\n",
            "  Downloading pyairtable-3.0.1-py2.py3-none-any.whl.metadata (4.6 kB)\n",
            "Collecting inflection (from pyairtable)\n",
            "  Downloading inflection-0.5.1-py2.py3-none-any.whl.metadata (1.7 kB)\n",
            "Requirement already satisfied: pydantic<3,>=2 in /usr/local/lib/python3.11/dist-packages (from pyairtable) (2.10.6)\n",
            "Requirement already satisfied: requests>=2.22.0 in /usr/local/lib/python3.11/dist-packages (from pyairtable) (2.32.3)\n",
            "Requirement already satisfied: typing_extensions in /usr/local/lib/python3.11/dist-packages (from pyairtable) (4.12.2)\n",
            "Requirement already satisfied: urllib3>=1.26 in /usr/local/lib/python3.11/dist-packages (from pyairtable) (2.3.0)\n",
            "Requirement already satisfied: annotated-types>=0.6.0 in /usr/local/lib/python3.11/dist-packages (from pydantic<3,>=2->pyairtable) (0.7.0)\n",
            "Requirement already satisfied: pydantic-core==2.27.2 in /usr/local/lib/python3.11/dist-packages (from pydantic<3,>=2->pyairtable) (2.27.2)\n",
            "Requirement already satisfied: charset-normalizer<4,>=2 in /usr/local/lib/python3.11/dist-packages (from requests>=2.22.0->pyairtable) (3.4.1)\n",
            "Requirement already satisfied: idna<4,>=2.5 in /usr/local/lib/python3.11/dist-packages (from requests>=2.22.0->pyairtable) (3.10)\n",
            "Requirement already satisfied: certifi>=2017.4.17 in /usr/local/lib/python3.11/dist-packages (from requests>=2.22.0->pyairtable) (2025.1.31)\n",
            "Downloading pyairtable-3.0.1-py2.py3-none-any.whl (99 kB)\n",
            "\u001b[?25l   \u001b[90m━━━━━━━━━━━━━━━━━━━━━━━━━━━━━━━━━━━━━━━━\u001b[0m \u001b[32m0.0/100.0 kB\u001b[0m \u001b[31m?\u001b[0m eta \u001b[36m-:--:--\u001b[0m\r\u001b[2K   \u001b[90m━━━━━━━━━━━━━━━━━━━━━━━━━━━━━━━━━━━━━━━━\u001b[0m \u001b[32m100.0/100.0 kB\u001b[0m \u001b[31m2.8 MB/s\u001b[0m eta \u001b[36m0:00:00\u001b[0m\n",
            "\u001b[?25hDownloading inflection-0.5.1-py2.py3-none-any.whl (9.5 kB)\n",
            "Installing collected packages: inflection, pyairtable\n",
            "Successfully installed inflection-0.5.1 pyairtable-3.0.1\n",
            "Requirement already satisfied: pyairtable in /usr/local/lib/python3.11/dist-packages (3.0.1)\n",
            "Requirement already satisfied: inflection in /usr/local/lib/python3.11/dist-packages (from pyairtable) (0.5.1)\n",
            "Requirement already satisfied: pydantic<3,>=2 in /usr/local/lib/python3.11/dist-packages (from pyairtable) (2.10.6)\n",
            "Requirement already satisfied: requests>=2.22.0 in /usr/local/lib/python3.11/dist-packages (from pyairtable) (2.32.3)\n",
            "Requirement already satisfied: typing_extensions in /usr/local/lib/python3.11/dist-packages (from pyairtable) (4.12.2)\n",
            "Requirement already satisfied: urllib3>=1.26 in /usr/local/lib/python3.11/dist-packages (from pyairtable) (2.3.0)\n",
            "Requirement already satisfied: annotated-types>=0.6.0 in /usr/local/lib/python3.11/dist-packages (from pydantic<3,>=2->pyairtable) (0.7.0)\n",
            "Requirement already satisfied: pydantic-core==2.27.2 in /usr/local/lib/python3.11/dist-packages (from pydantic<3,>=2->pyairtable) (2.27.2)\n",
            "Requirement already satisfied: charset-normalizer<4,>=2 in /usr/local/lib/python3.11/dist-packages (from requests>=2.22.0->pyairtable) (3.4.1)\n",
            "Requirement already satisfied: idna<4,>=2.5 in /usr/local/lib/python3.11/dist-packages (from requests>=2.22.0->pyairtable) (3.10)\n",
            "Requirement already satisfied: certifi>=2017.4.17 in /usr/local/lib/python3.11/dist-packages (from requests>=2.22.0->pyairtable) (2025.1.31)\n"
          ]
        },
        {
          "output_type": "error",
          "ename": "TypeError",
          "evalue": "Api.table() got an unexpected keyword argument 'view'",
          "traceback": [
            "\u001b[0;31m---------------------------------------------------------------------------\u001b[0m",
            "\u001b[0;31mTypeError\u001b[0m                                 Traceback (most recent call last)",
            "\u001b[0;32m<ipython-input-1-c20dff62d4ef>\u001b[0m in \u001b[0;36m<cell line: 0>\u001b[0;34m()\u001b[0m\n\u001b[1;32m     29\u001b[0m \u001b[0;34m\u001b[0m\u001b[0m\n\u001b[1;32m     30\u001b[0m \u001b[0;31m# Initialize Airtable table object using the Api object:\u001b[0m\u001b[0;34m\u001b[0m\u001b[0;34m\u001b[0m\u001b[0m\n\u001b[0;32m---> 31\u001b[0;31m \u001b[0mtable\u001b[0m \u001b[0;34m=\u001b[0m \u001b[0mapi\u001b[0m\u001b[0;34m.\u001b[0m\u001b[0mtable\u001b[0m\u001b[0;34m(\u001b[0m\u001b[0mAIRTABLE_BASE_ID\u001b[0m\u001b[0;34m,\u001b[0m \u001b[0mAIRTABLE_TABLE_NAME\u001b[0m\u001b[0;34m,\u001b[0m \u001b[0mview\u001b[0m\u001b[0;34m=\u001b[0m\u001b[0mAIRTABLE_VIEW_ID\u001b[0m\u001b[0;34m)\u001b[0m \u001b[0;31m# Pass the view ID\u001b[0m\u001b[0;34m\u001b[0m\u001b[0;34m\u001b[0m\u001b[0m\n\u001b[0m\u001b[1;32m     32\u001b[0m \u001b[0;34m\u001b[0m\u001b[0m\n\u001b[1;32m     33\u001b[0m \u001b[0;32mdef\u001b[0m \u001b[0mget_scholarship_data_from_airtable\u001b[0m\u001b[0;34m(\u001b[0m\u001b[0mtable\u001b[0m\u001b[0;34m,\u001b[0m \u001b[0mquestion_field\u001b[0m\u001b[0;34m=\u001b[0m\u001b[0;34m\"question_text\"\u001b[0m\u001b[0;34m,\u001b[0m \u001b[0mname_field\u001b[0m\u001b[0;34m=\u001b[0m\u001b[0;34m\"scholarship_name\"\u001b[0m\u001b[0;34m)\u001b[0m\u001b[0;34m:\u001b[0m\u001b[0;34m\u001b[0m\u001b[0;34m\u001b[0m\u001b[0m\n",
            "\u001b[0;31mTypeError\u001b[0m: Api.table() got an unexpected keyword argument 'view'"
          ]
        }
      ],
      "source": [
        "# @title\n",
        "import os\n",
        "!pip install pyairtable\n",
        "from pyairtable import Table\n",
        "from pyairtable import Api\n",
        "\n",
        "# 1. Install pyairtable (if you haven't already):\n",
        "!pip install pyairtable\n",
        "\n",
        "# 2. Set Airtable API Key and Base ID as Colab Secrets:\n",
        "#    - Go to Colab settings (gear icon) -> Secrets.\n",
        "#    - Add two secrets:\n",
        "#        - AIRTABLE_API_KEY (Your Airtable API key)\n",
        "#        - AIRTABLE_BASE_ID (Your Airtable Base ID)\n",
        "\n",
        "# 3. Retrieve secrets from environment variables:\n",
        "from google.colab import userdata\n",
        "AIRTABLE_API_KEY = userdata.get('AIRTABLE_API_KEY')\n",
        "AIRTABLE_BASE_ID = userdata.get('AIRTABLE_BASE_ID')\n",
        "\n",
        "if not AIRTABLE_API_KEY or not AIRTABLE_BASE_ID:\n",
        "    raise ValueError(\"AIRTABLE_API_KEY and AIRTABLE_BASE_ID must be set as Colab Secrets.\")\n",
        "\n",
        "AIRTABLE_TABLE_NAME = \"scholarship\"  # Your Airtable table name\n",
        "AIRTABLE_VIEW_ID = \"viwQKJVMUyyZaCLzn\" # Your Airtable View ID\n",
        "\n",
        "# Initialize Airtable API object:\n",
        "api = Api(AIRTABLE_API_KEY)\n",
        "\n",
        "# Initialize Airtable table object using the Api object:\n",
        "table = api.table(AIRTABLE_BASE_ID, AIRTABLE_TABLE_NAME, view=AIRTABLE_VIEW_ID) # Pass the view ID\n",
        "\n",
        "def get_scholarship_data_from_airtable(table, question_field=\"question_text\", name_field=\"scholarship_name\"):\n",
        "    \"\"\"Retrieves question_text and scholarship_name from Airtable.\n",
        "\n",
        "    Handles missing fields and returns a list of dictionaries.\n",
        "    \"\"\"\n",
        "    try:\n",
        "        records = table.all() # no need to specify the view here since it is already passed when creating the table object\n",
        "        scholarship_data = []\n",
        "        for record in records:\n",
        "            fields = record.get(\"fields\", {})\n",
        "            question = fields.get(question_field)\n",
        "            name = fields.get(name_field)\n",
        "\n",
        "            # Append even if one field is missing, using empty strings as placeholders\n",
        "            scholarship_data.append({\n",
        "                \"question_text\": question if question else \"\",\n",
        "                \"scholarship_name\": name if name else \"\"\n",
        "            })\n",
        "\n",
        "        return scholarship_data\n",
        "    except Exception as e:\n",
        "        print(f\"Error retrieving data from Airtable: {e}\")\n",
        "        return []\n",
        "\n",
        "\n",
        "essay_prompts = get_scholarship_data_from_airtable(table)\n",
        "\n",
        "if essay_prompts:\n",
        "    print(\"Essay prompts from Airtable:\")\n",
        "    for prompt in essay_prompts:\n",
        "        print(prompt)\n",
        "\n",
        "    try:\n",
        "        import pandas as pd\n",
        "        df = pd.DataFrame(essay_prompts)\n",
        "        print(\"\\nPandas DataFrame:\")\n",
        "        print(df)\n",
        "    except ImportError:\n",
        "        print(\"\\nPandas is not installed. Install it with: !pip install pandas\")\n",
        "    except Exception as e:\n",
        "        print(f\"\\nCould not create Pandas DataFrame: {e}\")\n",
        "\n",
        "else:\n",
        "    print(\"No scholarship data found in Airtable.\")"
      ]
    }
  ]
}